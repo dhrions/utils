{
 "cells": [
  {
   "cell_type": "markdown",
   "metadata": {},
   "source": [
    "# JSON avec Python"
   ]
  },
  {
   "cell_type": "markdown",
   "metadata": {},
   "source": [
    "## Import le package JSON"
   ]
  },
  {
   "cell_type": "code",
   "execution_count": 1,
   "metadata": {},
   "outputs": [],
   "source": [
    "import json"
   ]
  },
  {
   "cell_type": "markdown",
   "metadata": {},
   "source": [
    "## Indiquer le chemin du fichier JSON"
   ]
  },
  {
   "cell_type": "code",
   "execution_count": 2,
   "metadata": {},
   "outputs": [],
   "source": [
    "my_json_example = \"example.json\""
   ]
  },
  {
   "cell_type": "markdown",
   "metadata": {},
   "source": [
    "## Ouvrir un fichier JSON (et stocker son contenu dans une variable)"
   ]
  },
  {
   "cell_type": "markdown",
   "metadata": {},
   "source": [
    "###Version simple"
   ]
  },
  {
   "cell_type": "code",
   "execution_count": 3,
   "metadata": {},
   "outputs": [],
   "source": [
    "with open(my_json_example, 'r') as f:\n",
    "    data = json.load(f)"
   ]
  },
  {
   "cell_type": "markdown",
   "metadata": {},
   "source": [
    "### Version améliorée"
   ]
  },
  {
   "cell_type": "code",
   "execution_count": 4,
   "metadata": {},
   "outputs": [],
   "source": [
    "def open_json_file(input_file_path):\n",
    "    \"\"\"Process a JSON file and call the success callback on successful processing.\n",
    "    \n",
    "    Args:\n",
    "        input_file_path (str): Path to the input JSON file.\n",
    "        output_file_path (str): Path to the output JSON file.\n",
    "        success_callback (function): Function to call on successful processing.\n",
    "    \"\"\"\n",
    "\n",
    "    try:\n",
    "        with open(input_file_path, 'r') as f:\n",
    "            data = json.load(f)\n",
    "                    \n",
    "        if not isinstance(data, list):\n",
    "            raise ValueError(\"The input JSON must be an array of objects.\")\n",
    "\n",
    "    except (FileNotFoundError, json.JSONDecodeError) as e:\n",
    "        print(f\"Error reading the input file: {e}\")\n",
    "    except ValueError as e:\n",
    "        print(f\"Error in the data format: {e}\")\n",
    "    except Exception as e:\n",
    "        print(f\"An unexpected error occurred: {e}\")\n",
    "    return data"
   ]
  },
  {
   "cell_type": "code",
   "execution_count": 5,
   "metadata": {},
   "outputs": [],
   "source": [
    "my_data = open_json_file(my_json_example)"
   ]
  },
  {
   "cell_type": "code",
   "execution_count": 6,
   "metadata": {},
   "outputs": [
    {
     "name": "stdout",
     "output_type": "stream",
     "text": [
      "[{'id': 12345, 'name': 'John Doe', 'email': 'john.doe@example.com', 'is_active': True, 'age': 30, 'addresses': [{'type': 'home', 'address': '123 Main St', 'city': 'Springfield', 'state': 'IL', 'postal_code': '62704', 'country': 'USA'}, {'type': 'work', 'address': '456 Business Rd', 'city': 'Metropolis', 'state': 'NY', 'postal_code': '10001', 'country': 'USA'}], 'phone_numbers': [{'type': 'home', 'number': '+1-555-123-4567'}, {'type': 'work', 'number': '+1-555-987-6543'}], 'preferences': {'contact_method': 'email', 'languages': ['en', 'es', 'fr'], 'timezone': 'America/Chicago'}, 'created_at': '2022-01-15T08:00:00Z', 'updated_at': '2022-06-01T12:00:00Z'}, {'id': 67890, 'name': 'Jane Smith', 'email': 'jane.smith@example.com', 'is_active': False, 'age': 25, 'addresses': [{'type': 'home', 'address': '789 Park Ave', 'city': 'New York', 'state': 'NY', 'postal_code': '10021', 'country': 'USA'}], 'phone_numbers': [{'type': 'mobile', 'number': '+1-555-234-5678'}], 'preferences': {'contact_method': 'phone', 'languages': ['en'], 'timezone': 'America/New_York'}, 'created_at': '2021-05-10T14:30:00Z', 'updated_at': '2022-05-01T08:00:00Z'}]\n"
     ]
    }
   ],
   "source": [
    "print(my_data)"
   ]
  },
  {
   "cell_type": "markdown",
   "metadata": {},
   "source": [
    "## Trier les objets de premier niveau d'un fichier JSON selon une clé, par ordre alphabétique"
   ]
  },
  {
   "cell_type": "code",
   "execution_count": 7,
   "metadata": {},
   "outputs": [],
   "source": [
    "#tag::sort_json_file_by_alphabetical_order[]\n",
    "def sort_json_file_by_alphabetical_order(data, key):\n",
    "    \"\"\"Sort a JSON file by the specified key in alphabetical order and write to a new file.\n",
    "\n",
    "    Args:\n",
    "        input_file_path (str): Path to the input JSON file.\n",
    "        output_file_path (str): Path to the output JSON file.\n",
    "        key (str): The key to sort the JSON objects by.\n",
    "    \"\"\"\n",
    "\n",
    "    sorted_data = sorted(data, key=lambda item: item[key])\n",
    "    return sorted_data\n",
    "#end::sort_json_file_by_alphabetical_order[]"
   ]
  },
  {
   "cell_type": "code",
   "execution_count": 8,
   "metadata": {},
   "outputs": [
    {
     "data": {
      "text/plain": [
       "[{'id': 67890,\n",
       "  'name': 'Jane Smith',\n",
       "  'email': 'jane.smith@example.com',\n",
       "  'is_active': False,\n",
       "  'age': 25,\n",
       "  'addresses': [{'type': 'home',\n",
       "    'address': '789 Park Ave',\n",
       "    'city': 'New York',\n",
       "    'state': 'NY',\n",
       "    'postal_code': '10021',\n",
       "    'country': 'USA'}],\n",
       "  'phone_numbers': [{'type': 'mobile', 'number': '+1-555-234-5678'}],\n",
       "  'preferences': {'contact_method': 'phone',\n",
       "   'languages': ['en'],\n",
       "   'timezone': 'America/New_York'},\n",
       "  'created_at': '2021-05-10T14:30:00Z',\n",
       "  'updated_at': '2022-05-01T08:00:00Z'},\n",
       " {'id': 12345,\n",
       "  'name': 'John Doe',\n",
       "  'email': 'john.doe@example.com',\n",
       "  'is_active': True,\n",
       "  'age': 30,\n",
       "  'addresses': [{'type': 'home',\n",
       "    'address': '123 Main St',\n",
       "    'city': 'Springfield',\n",
       "    'state': 'IL',\n",
       "    'postal_code': '62704',\n",
       "    'country': 'USA'},\n",
       "   {'type': 'work',\n",
       "    'address': '456 Business Rd',\n",
       "    'city': 'Metropolis',\n",
       "    'state': 'NY',\n",
       "    'postal_code': '10001',\n",
       "    'country': 'USA'}],\n",
       "  'phone_numbers': [{'type': 'home', 'number': '+1-555-123-4567'},\n",
       "   {'type': 'work', 'number': '+1-555-987-6543'}],\n",
       "  'preferences': {'contact_method': 'email',\n",
       "   'languages': ['en', 'es', 'fr'],\n",
       "   'timezone': 'America/Chicago'},\n",
       "  'created_at': '2022-01-15T08:00:00Z',\n",
       "  'updated_at': '2022-06-01T12:00:00Z'}]"
      ]
     },
     "execution_count": 8,
     "metadata": {},
     "output_type": "execute_result"
    }
   ],
   "source": [
    "sort_json_file_by_alphabetical_order(my_data, \"name\")"
   ]
  },
  {
   "cell_type": "markdown",
   "metadata": {},
   "source": [
    "## Trier les clés de premier niveau par ordre alphabétique"
   ]
  },
  {
   "cell_type": "code",
   "execution_count": null,
   "metadata": {},
   "outputs": [],
   "source": []
  },
  {
   "cell_type": "markdown",
   "metadata": {},
   "source": [
    "## Supprimer des doublons selon une clé\n",
    "\n",
    "Exemple :\n",
    "\n",
    "On a un objet A :\n",
    "\n",
    "{\n",
    "    \"id\": 12345,\n",
    "    \"name\": \"John Doe\",\n",
    "    \"email\": \"john.doe@example.com\",\n",
    "    \"is_active\": true,\n",
    "    \"age\": 30\n",
    "}\n",
    "\n",
    "et un objet B :\n",
    "\n",
    "{\n",
    "    \"id\": 12345,\n",
    "    \"name\": \"James Watt\",\n",
    "    \"email\": \"james.watt@example.com\",\n",
    "    \"is_active\": false,\n",
    "    \"age\": 34\n",
    "}\n",
    "\n",
    "On veut supprimer les objets ayant le même id."
   ]
  },
  {
   "cell_type": "code",
   "execution_count": 9,
   "metadata": {},
   "outputs": [],
   "source": [
    "#tag::delete_duplicate_according_one_key[]\n",
    "def delete_duplicate_according_one_key(data, key):\n",
    "    \"\"\"Delete duplicate according one key\"\"\"\n",
    "\n",
    "    unique_values = set()\n",
    "    output_data = []\n",
    "\n",
    "    for entry in data:\n",
    "        key_value = entry.get(key)  # Replace 'key' with the actual key name\n",
    "        if key_value not in unique_values:\n",
    "            unique_values.add(key_value)\n",
    "            output_data.append(entry)\n",
    "#end::delete_duplicate_according_one_key[]"
   ]
  },
  {
   "cell_type": "markdown",
   "metadata": {},
   "source": [
    "## Supprimer des doublons parfaits"
   ]
  },
  {
   "cell_type": "code",
   "execution_count": 10,
   "metadata": {},
   "outputs": [],
   "source": [
    "#tag::delete_duplicate_according_all_keys[]\n",
    "def delete_duplicate_according_all_keys(input_file_path, output_file_path):\n",
    "    \"\"\"Delete duplicate according all keys\"\"\"\n",
    "\n",
    "    with open(input_file_path, 'r') as f:\n",
    "        data = json.load(f)\n",
    "\n",
    "    # Remove duplicate\n",
    "    data = [i for n, i in enumerate(data) if i not in data[n + 1:]]\n",
    "\n",
    "    with open(output_file_path, 'w') as f:\n",
    "        json.dump(data, f, indent=4, sort_keys=True)"
   ]
  }
 ],
 "metadata": {
  "kernelspec": {
   "display_name": ".venv",
   "language": "python",
   "name": "python3"
  },
  "language_info": {
   "codemirror_mode": {
    "name": "ipython",
    "version": 3
   },
   "file_extension": ".py",
   "mimetype": "text/x-python",
   "name": "python",
   "nbconvert_exporter": "python",
   "pygments_lexer": "ipython3",
   "version": "3.10.12"
  }
 },
 "nbformat": 4,
 "nbformat_minor": 2
}
