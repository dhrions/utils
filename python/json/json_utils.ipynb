{
 "cells": [
  {
   "cell_type": "markdown",
   "metadata": {},
   "source": [
    "# JSON avec Python"
   ]
  },
  {
   "cell_type": "markdown",
   "metadata": {},
   "source": [
    "## Vocabulaire"
   ]
  },
  {
   "cell_type": "markdown",
   "metadata": {},
   "source": [
    "```\n",
    "{\n",
    "    {\n",
    "        \"id\": 1,\n",
    "        \"name\": \"John\",\n",
    "        \"email\": \"john@example.com\",\n",
    "        \"phone_numbers\": [\n",
    "            {\"type\": \"home\", \"number\": \"123-456-7890\"},\n",
    "            {\"type\": \"work\", \"number\": \"987-654-3210\"}\n",
    "        ]\n",
    "    },\n",
    "    {\n",
    "        \"id\": 2,\n",
    "        \"name\": \"Jane\",\n",
    "        \"email\": \"jane@example.com\",\n",
    "        \"phone_numbers\": [\n",
    "            {\"type\": \"home\", \"number\": \"456-789-0123\"},\n",
    "            {\"type\": \"mobile\", \"number\": \"789-012-3456\"}\n",
    "        ]\n",
    "    }\n",
    "}\n",
    "```"
   ]
  },
  {
   "cell_type": "markdown",
   "metadata": {},
   "source": [
    "* `id`, `name`, `email`, `phone_numbers`, `type` et `number` sont appelées des « clés ».\n",
    "* `id`, `name`, `email` et `phone_numbers` sont appelées des « clés de premier niveau ».\n",
    "* `type` et `number` sont appelées des « clés de deuxième niveau »."
   ]
  },
  {
   "cell_type": "markdown",
   "metadata": {},
   "source": [
    "## Import le package JSON"
   ]
  },
  {
   "cell_type": "code",
   "execution_count": 52,
   "metadata": {},
   "outputs": [],
   "source": [
    "import json"
   ]
  },
  {
   "cell_type": "markdown",
   "metadata": {},
   "source": [
    "## Indiquer le chemin du fichier JSON"
   ]
  },
  {
   "cell_type": "code",
   "execution_count": 53,
   "metadata": {},
   "outputs": [],
   "source": [
    "my_json_example = \"example.json\""
   ]
  },
  {
   "cell_type": "markdown",
   "metadata": {},
   "source": [
    "## Ouvrir un fichier JSON (et stocker son contenu dans une variable)"
   ]
  },
  {
   "cell_type": "markdown",
   "metadata": {},
   "source": [
    "### Version simple"
   ]
  },
  {
   "cell_type": "code",
   "execution_count": 54,
   "metadata": {},
   "outputs": [],
   "source": [
    "with open(my_json_example, 'r') as f:\n",
    "    data = json.load(f)"
   ]
  },
  {
   "cell_type": "markdown",
   "metadata": {},
   "source": [
    "### Version améliorée"
   ]
  },
  {
   "cell_type": "code",
   "execution_count": 55,
   "metadata": {},
   "outputs": [],
   "source": [
    "def open_json_file(input_file_path):\n",
    "    \"\"\"Process a JSON file and call the success callback on successful processing.\n",
    "    \n",
    "    Args:\n",
    "        input_file_path (str): Path to the input JSON file.\n",
    "    \"\"\"\n",
    "\n",
    "    try:\n",
    "        with open(input_file_path, 'r') as f:\n",
    "            data = json.load(f)\n",
    "                    \n",
    "        if not isinstance(data, list):\n",
    "            raise ValueError(\"The input JSON must be an array of objects.\")\n",
    "\n",
    "    except (FileNotFoundError, json.JSONDecodeError) as e:\n",
    "        print(f\"Error reading the input file: {e}\")\n",
    "    except ValueError as e:\n",
    "        print(f\"Error in the data format: {e}\")\n",
    "    except Exception as e:\n",
    "        print(f\"An unexpected error occurred: {e}\")\n",
    "    return data"
   ]
  },
  {
   "cell_type": "code",
   "execution_count": 56,
   "metadata": {},
   "outputs": [],
   "source": [
    "my_data = open_json_file(my_json_example)"
   ]
  },
  {
   "cell_type": "code",
   "execution_count": 57,
   "metadata": {},
   "outputs": [
    {
     "name": "stdout",
     "output_type": "stream",
     "text": [
      "[{'id': 12345, 'name': 'John Doe', 'email': 'john.doe@example.com', 'is_active': True, 'age': 30, 'addresses': [{'type': 'home', 'address': '123 Main St', 'city': 'Springfield', 'state': 'IL', 'postal_code': '62704', 'country': 'USA', 'additional_info': [{'info_type': 'neighborhood', 'details': 'Quiet and friendly', 'other_details': [{'comment': 'Close to park', 'rating': 5}, {'comment': 'Good schools nearby', 'rating': 4}]}, {'info_type': 'amenities', 'details': 'Nearby grocery stores', 'other_details': [{'comment': '5-minute walk', 'rating': 4}]}]}, {'type': 'work', 'address': '456 Business Rd', 'city': 'Metropolis', 'state': 'NY', 'postal_code': '10001', 'country': 'USA'}], 'phone_numbers': [{'type': 'home', 'number': '+1-555-123-4567'}, {'type': 'work', 'number': '+1-555-987-6543'}], 'preferences': {'contact_method': 'email', 'languages': ['en', 'es', 'fr'], 'timezone': 'America/Chicago'}, 'created_at': '2022-01-15T08:00:00Z', 'updated_at': '2022-06-01T12:00:00Z'}, {'id': 12345, 'name': 'John Doe', 'email': 'john.doe@example.com', 'is_active': True, 'age': 30, 'addresses': [{'type': 'home', 'address': '123 Main St', 'city': 'Springfield', 'state': 'IL', 'postal_code': '62704', 'country': 'USA', 'additional_info': [{'info_type': 'neighborhood', 'details': 'Quiet and friendly', 'other_details': [{'comment': 'Close to park', 'rating': 5}, {'comment': 'Good schools nearby', 'rating': 4}]}, {'info_type': 'amenities', 'details': 'Nearby grocery stores', 'other_details': [{'comment': '5-minute walk', 'rating': 4}]}]}, {'type': 'work', 'address': '456 Business Rd', 'city': 'Metropolis', 'state': 'NY', 'postal_code': '10001', 'country': 'USA'}], 'phone_numbers': [{'type': 'home', 'number': '+1-555-123-4567'}, {'type': 'work', 'number': '+1-555-987-6543'}], 'preferences': {'contact_method': 'email', 'languages': ['en', 'es', 'fr'], 'timezone': 'America/Chicago'}, 'created_at': '2022-01-15T08:00:00Z', 'updated_at': '2022-06-01T12:00:00Z'}, {'id': 67890, 'name': 'Jane Smith', 'email': 'jane.smith@example.com', 'is_active': False, 'age': 25, 'addresses': [{'type': 'home', 'address': '789 Park Ave', 'city': 'New York', 'state': 'NY', 'postal_code': '10021', 'country': 'USA', 'additional_info': [{'info_type': 'neighborhood', 'details': 'Lively area', 'other_details': [{'comment': 'Lots of restaurants', 'rating': 4}, {'comment': 'Close to subway', 'rating': 5}]}]}], 'phone_numbers': [{'type': 'mobile', 'number': '+1-555-234-5678'}], 'preferences': {'contact_method': 'phone', 'languages': ['en'], 'timezone': 'America/New_York'}, 'created_at': '2021-05-10T14:30:00Z', 'updated_at': '2022-05-01T08:00:00Z'}]\n"
     ]
    }
   ],
   "source": [
    "print(my_data)"
   ]
  },
  {
   "cell_type": "markdown",
   "metadata": {},
   "source": [
    "## Obtenir les principales infos"
   ]
  },
  {
   "cell_type": "code",
   "execution_count": 58,
   "metadata": {},
   "outputs": [],
   "source": [
    "def get_json_info(data):\n",
    "    \"\"\"Prints the main information of the JSON data.\n",
    "\n",
    "    Args:\n",
    "        data (any): The JSON data loaded into a Python variable.\n",
    "    \"\"\"\n",
    "    \n",
    "    if isinstance(data, dict):\n",
    "        print(\"Type: Dictionary\")\n",
    "        print(\"Number of keys:\", len(data))\n",
    "        print(\"Keys:\", list(data.keys()))\n",
    "        for key, value in data.items():\n",
    "            print(f\"Key: {key}, Type: {type(value).__name__}\")\n",
    "    elif isinstance(data, list):\n",
    "        print(\"Type: List\")\n",
    "        print(\"Number of elements:\", len(data))\n",
    "        if data:\n",
    "            first_elem = data[0]\n",
    "            print(\"Type of first element:\", type(first_elem).__name__)\n",
    "            if isinstance(first_elem, dict):\n",
    "                print(\"Keys of first element:\", list(first_elem.keys()))\n",
    "    else:\n",
    "        print(\"Type:\", type(data).__name__)\n",
    "        print(\"Value:\", data)"
   ]
  },
  {
   "cell_type": "code",
   "execution_count": 59,
   "metadata": {},
   "outputs": [
    {
     "name": "stdout",
     "output_type": "stream",
     "text": [
      "Type: List\n",
      "Number of elements: 3\n",
      "Type of first element: dict\n",
      "Keys of first element: ['id', 'name', 'email', 'is_active', 'age', 'addresses', 'phone_numbers', 'preferences', 'created_at', 'updated_at']\n"
     ]
    }
   ],
   "source": [
    "get_json_info(my_data)"
   ]
  },
  {
   "cell_type": "markdown",
   "metadata": {},
   "source": [
    "## Écrire les données dans un fichier JSON"
   ]
  },
  {
   "cell_type": "code",
   "execution_count": 60,
   "metadata": {},
   "outputs": [],
   "source": [
    "def write_json_to_file(data, output_file_path):\n",
    "    \"\"\"Writes JSON data to a file in an indented format.\n",
    "\n",
    "    Args:\n",
    "        data (dict or list): JSON data to write to the file.\n",
    "        output_file_path (str): Path to the output JSON file.\n",
    "    \"\"\"\n",
    "    with open(output_file_path, 'w') as f:\n",
    "        json.dump(data, f, indent=4)"
   ]
  },
  {
   "cell_type": "code",
   "execution_count": 61,
   "metadata": {},
   "outputs": [],
   "source": [
    "write_json_to_file(my_data, \"output.json\")"
   ]
  },
  {
   "cell_type": "markdown",
   "metadata": {},
   "source": [
    "## Trier les objets de premier niveau d'un fichier JSON selon une clé, par ordre alphabétique"
   ]
  },
  {
   "cell_type": "code",
   "execution_count": 62,
   "metadata": {},
   "outputs": [],
   "source": [
    "#tag::sort_json_file_by_alphabetical_order[]\n",
    "def sort_json_file_by_alphabetical_order(data, key):\n",
    "    \"\"\"Sort a JSON file by the specified key in alphabetical order and write to a new file.\n",
    "\n",
    "    Args:\n",
    "        input_file_path (str): Path to the input JSON file.\n",
    "        output_file_path (str): Path to the output JSON file.\n",
    "        key (str): The key to sort the JSON objects by.\n",
    "    \"\"\"\n",
    "\n",
    "    sorted_data = sorted(data, key=lambda item: item[key])\n",
    "    return sorted_data\n",
    "#end::sort_json_file_by_alphabetical_order[]"
   ]
  },
  {
   "cell_type": "code",
   "execution_count": 63,
   "metadata": {},
   "outputs": [
    {
     "data": {
      "text/plain": [
       "[{'id': 67890,\n",
       "  'name': 'Jane Smith',\n",
       "  'email': 'jane.smith@example.com',\n",
       "  'is_active': False,\n",
       "  'age': 25,\n",
       "  'addresses': [{'type': 'home',\n",
       "    'address': '789 Park Ave',\n",
       "    'city': 'New York',\n",
       "    'state': 'NY',\n",
       "    'postal_code': '10021',\n",
       "    'country': 'USA',\n",
       "    'additional_info': [{'info_type': 'neighborhood',\n",
       "      'details': 'Lively area',\n",
       "      'other_details': [{'comment': 'Lots of restaurants', 'rating': 4},\n",
       "       {'comment': 'Close to subway', 'rating': 5}]}]}],\n",
       "  'phone_numbers': [{'type': 'mobile', 'number': '+1-555-234-5678'}],\n",
       "  'preferences': {'contact_method': 'phone',\n",
       "   'languages': ['en'],\n",
       "   'timezone': 'America/New_York'},\n",
       "  'created_at': '2021-05-10T14:30:00Z',\n",
       "  'updated_at': '2022-05-01T08:00:00Z'},\n",
       " {'id': 12345,\n",
       "  'name': 'John Doe',\n",
       "  'email': 'john.doe@example.com',\n",
       "  'is_active': True,\n",
       "  'age': 30,\n",
       "  'addresses': [{'type': 'home',\n",
       "    'address': '123 Main St',\n",
       "    'city': 'Springfield',\n",
       "    'state': 'IL',\n",
       "    'postal_code': '62704',\n",
       "    'country': 'USA',\n",
       "    'additional_info': [{'info_type': 'neighborhood',\n",
       "      'details': 'Quiet and friendly',\n",
       "      'other_details': [{'comment': 'Close to park', 'rating': 5},\n",
       "       {'comment': 'Good schools nearby', 'rating': 4}]},\n",
       "     {'info_type': 'amenities',\n",
       "      'details': 'Nearby grocery stores',\n",
       "      'other_details': [{'comment': '5-minute walk', 'rating': 4}]}]},\n",
       "   {'type': 'work',\n",
       "    'address': '456 Business Rd',\n",
       "    'city': 'Metropolis',\n",
       "    'state': 'NY',\n",
       "    'postal_code': '10001',\n",
       "    'country': 'USA'}],\n",
       "  'phone_numbers': [{'type': 'home', 'number': '+1-555-123-4567'},\n",
       "   {'type': 'work', 'number': '+1-555-987-6543'}],\n",
       "  'preferences': {'contact_method': 'email',\n",
       "   'languages': ['en', 'es', 'fr'],\n",
       "   'timezone': 'America/Chicago'},\n",
       "  'created_at': '2022-01-15T08:00:00Z',\n",
       "  'updated_at': '2022-06-01T12:00:00Z'},\n",
       " {'id': 12345,\n",
       "  'name': 'John Doe',\n",
       "  'email': 'john.doe@example.com',\n",
       "  'is_active': True,\n",
       "  'age': 30,\n",
       "  'addresses': [{'type': 'home',\n",
       "    'address': '123 Main St',\n",
       "    'city': 'Springfield',\n",
       "    'state': 'IL',\n",
       "    'postal_code': '62704',\n",
       "    'country': 'USA',\n",
       "    'additional_info': [{'info_type': 'neighborhood',\n",
       "      'details': 'Quiet and friendly',\n",
       "      'other_details': [{'comment': 'Close to park', 'rating': 5},\n",
       "       {'comment': 'Good schools nearby', 'rating': 4}]},\n",
       "     {'info_type': 'amenities',\n",
       "      'details': 'Nearby grocery stores',\n",
       "      'other_details': [{'comment': '5-minute walk', 'rating': 4}]}]},\n",
       "   {'type': 'work',\n",
       "    'address': '456 Business Rd',\n",
       "    'city': 'Metropolis',\n",
       "    'state': 'NY',\n",
       "    'postal_code': '10001',\n",
       "    'country': 'USA'}],\n",
       "  'phone_numbers': [{'type': 'home', 'number': '+1-555-123-4567'},\n",
       "   {'type': 'work', 'number': '+1-555-987-6543'}],\n",
       "  'preferences': {'contact_method': 'email',\n",
       "   'languages': ['en', 'es', 'fr'],\n",
       "   'timezone': 'America/Chicago'},\n",
       "  'created_at': '2022-01-15T08:00:00Z',\n",
       "  'updated_at': '2022-06-01T12:00:00Z'}]"
      ]
     },
     "execution_count": 63,
     "metadata": {},
     "output_type": "execute_result"
    }
   ],
   "source": [
    "sort_json_file_by_alphabetical_order(my_data, \"name\")"
   ]
  },
  {
   "cell_type": "markdown",
   "metadata": {},
   "source": [
    "## Trier les clés de premier niveau par ordre alphabétique"
   ]
  },
  {
   "cell_type": "code",
   "execution_count": null,
   "metadata": {},
   "outputs": [],
   "source": []
  },
  {
   "cell_type": "markdown",
   "metadata": {},
   "source": [
    "## Supprimer des doublons selon une clé\n",
    "\n",
    "Exemple :\n",
    "\n",
    "On a un objet A :\n",
    "```\n",
    "{\n",
    "    \"id\": 12345,\n",
    "    \"name\": \"John Doe\",\n",
    "    \"email\": \"john.doe@example.com\",\n",
    "    \"is_active\": true,\n",
    "    \"age\": 30\n",
    "}\n",
    "```\n",
    "\n",
    "et un objet B :\n",
    "```\n",
    "{\n",
    "    \"id\": 12345,\n",
    "    \"name\": \"James Watt\",\n",
    "    \"email\": \"james.watt@example.com\",\n",
    "    \"is_active\": false,\n",
    "    \"age\": 34\n",
    "}\n",
    "```\n",
    "On veut supprimer les objets ayant le même id."
   ]
  },
  {
   "cell_type": "code",
   "execution_count": 64,
   "metadata": {},
   "outputs": [],
   "source": [
    "#tag::remove_duplicate_according_one_key[]\n",
    "def remove_duplicate_according_to_one_key(objects, key):\n",
    "    \"\"\"Remove duplicate according to one key\"\"\"\n",
    "\n",
    "    seen_values = set()\n",
    "    unique_objects = []\n",
    "\n",
    "    for obj in objects:\n",
    "        value = obj.get(key)\n",
    "        if value not in seen_values:\n",
    "            unique_objects.append(obj)\n",
    "            seen_values.add(value)\n",
    "\n",
    "    return unique_objects\n",
    "#end::remove_duplicate_according_one_key[]"
   ]
  },
  {
   "cell_type": "code",
   "execution_count": 65,
   "metadata": {},
   "outputs": [
    {
     "name": "stdout",
     "output_type": "stream",
     "text": [
      "Type: List\n",
      "Number of elements: 3\n",
      "Type of first element: dict\n",
      "Keys of first element: ['id', 'name', 'email', 'is_active', 'age', 'addresses', 'phone_numbers', 'preferences', 'created_at', 'updated_at']\n"
     ]
    }
   ],
   "source": [
    "get_json_info(my_data)"
   ]
  },
  {
   "cell_type": "code",
   "execution_count": 66,
   "metadata": {},
   "outputs": [],
   "source": [
    "data_without_duplicate = remove_duplicate_according_to_one_key(my_data, \"name\")"
   ]
  },
  {
   "cell_type": "code",
   "execution_count": 67,
   "metadata": {},
   "outputs": [
    {
     "name": "stdout",
     "output_type": "stream",
     "text": [
      "Type: List\n",
      "Number of elements: 2\n",
      "Type of first element: dict\n",
      "Keys of first element: ['id', 'name', 'email', 'is_active', 'age', 'addresses', 'phone_numbers', 'preferences', 'created_at', 'updated_at']\n"
     ]
    }
   ],
   "source": [
    "get_json_info(data_without_duplicate)"
   ]
  },
  {
   "cell_type": "markdown",
   "metadata": {},
   "source": [
    "## Supprimer des doublons parfaits"
   ]
  },
  {
   "cell_type": "code",
   "execution_count": 68,
   "metadata": {},
   "outputs": [],
   "source": [
    "#tag::remove_perfect_duplicates[]\n",
    "def remove_perfect_duplicates(data):\n",
    "    \"\"\"Remove perfect duplicates\"\"\"\n",
    "\n",
    "    # Remove duplicate\n",
    "    data = [i for n, i in enumerate(data) if i not in data[n + 1:]]\n",
    "\n",
    "    return data\n",
    "#end::remove_perfect_duplicates[]"
   ]
  },
  {
   "cell_type": "markdown",
   "metadata": {},
   "source": [
    "## Extraire la liste provenant d'une clé\n",
    "\n",
    "Pour que la prochaine fonction fonctionne, il faut que la clé indiquée soit de premier niveau."
   ]
  },
  {
   "cell_type": "code",
   "execution_count": 69,
   "metadata": {},
   "outputs": [],
   "source": [
    "def extract_key_list_data(data, key):\n",
    "    \"\"\"Extracts data from a specified key containing a list in a JSON file.\n",
    "\n",
    "    Args:\n",
    "        input_file_path (str): Path to the input JSON file.\n",
    "        key (str): Key containing the list to extract.\n",
    "\n",
    "    Returns:\n",
    "        list: List of dictionaries containing the data extracted from the specified key.\n",
    "    \"\"\"\n",
    "  \n",
    "    extracted_data = []\n",
    "    for item in data:\n",
    "        if key in item:\n",
    "            for element in item[key]:\n",
    "                element_with_top_level = {**item, key: element}\n",
    "                extracted_data.append(element_with_top_level)\n",
    "\n",
    "    return extracted_data"
   ]
  },
  {
   "cell_type": "code",
   "execution_count": 70,
   "metadata": {},
   "outputs": [],
   "source": [
    "extracted_data = extract_key_list_data(my_data, \"phone_numbers\")"
   ]
  },
  {
   "cell_type": "code",
   "execution_count": 71,
   "metadata": {},
   "outputs": [],
   "source": [
    "write_json_to_file(extracted_data, \"output.json\")"
   ]
  }
 ],
 "metadata": {
  "kernelspec": {
   "display_name": ".venv",
   "language": "python",
   "name": "python3"
  },
  "language_info": {
   "codemirror_mode": {
    "name": "ipython",
    "version": 3
   },
   "file_extension": ".py",
   "mimetype": "text/x-python",
   "name": "python",
   "nbconvert_exporter": "python",
   "pygments_lexer": "ipython3",
   "version": "3.10.12"
  }
 },
 "nbformat": 4,
 "nbformat_minor": 2
}
