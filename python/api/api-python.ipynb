{
 "cells": [
  {
   "cell_type": "markdown",
   "metadata": {},
   "source": [
    "# API avec Python"
   ]
  },
  {
   "cell_type": "markdown",
   "metadata": {},
   "source": [
    "## Imports"
   ]
  },
  {
   "cell_type": "code",
   "execution_count": 3,
   "metadata": {},
   "outputs": [],
   "source": [
    "import requests"
   ]
  },
  {
   "cell_type": "markdown",
   "metadata": {},
   "source": []
  },
  {
   "cell_type": "code",
   "execution_count": 4,
   "metadata": {},
   "outputs": [],
   "source": [
    "# Remplacez 'YOUR_API_KEY' par votre clé API OpenWeatherMap\n",
    "API_KEY = 'YOUR_API_KEY'\n",
    "BASE_URL = 'http://api.openweathermap.org/data/2.5/weather'"
   ]
  },
  {
   "cell_type": "code",
   "execution_count": 6,
   "metadata": {},
   "outputs": [
    {
     "name": "stdout",
     "output_type": "stream",
     "text": [
      "Erreur: 401, Impossible de récupérer les données météorologiques pour Strasbourg\n"
     ]
    }
   ],
   "source": [
    "def get_weather(city):\n",
    "    # Construire l'URL de requête\n",
    "    url = f\"{BASE_URL}?q={city}&appid={API_KEY}&units=metric\"\n",
    "    \n",
    "    # Envoyer la requête GET à l'API\n",
    "    response = requests.get(url)\n",
    "    \n",
    "    # Vérifier si la requête a réussi\n",
    "    if response.status_code == 200:\n",
    "        data = response.json()\n",
    "        \n",
    "        # Extraire les informations pertinentes\n",
    "        main = data['main']\n",
    "        weather = data['weather'][0]\n",
    "        wind = data['wind']\n",
    "        \n",
    "        # Afficher les informations météorologiques\n",
    "        print(f\"Ville: {city}\")\n",
    "        print(f\"Température: {main['temp']}°C\")\n",
    "        print(f\"Humidité: {main['humidity']}%\")\n",
    "        print(f\"Pression: {main['pressure']} hPa\")\n",
    "        print(f\"Description: {weather['description'].capitalize()}\")\n",
    "        print(f\"Vitesse du vent: {wind['speed']} m/s\")\n",
    "    else:\n",
    "        # Afficher un message d'erreur si la requête a échoué\n",
    "        print(f\"Erreur: {response.status_code}, Impossible de récupérer les données météorologiques pour {city}\")\n",
    "\n",
    "if __name__ == \"__main__\":\n",
    "    # Demander à l'utilisateur de saisir une ville\n",
    "    city = input(\"Entrez le nom de la ville: \")\n",
    "    \n",
    "    # Obtenir et afficher les données météorologiques pour la ville saisie\n",
    "    get_weather(city)"
   ]
  }
 ],
 "metadata": {
  "kernelspec": {
   "display_name": "api-env",
   "language": "python",
   "name": "python3"
  },
  "language_info": {
   "codemirror_mode": {
    "name": "ipython",
    "version": 3
   },
   "file_extension": ".py",
   "mimetype": "text/x-python",
   "name": "python",
   "nbconvert_exporter": "python",
   "pygments_lexer": "ipython3",
   "version": "3.10.12"
  }
 },
 "nbformat": 4,
 "nbformat_minor": 2
}
