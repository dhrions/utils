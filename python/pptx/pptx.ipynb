{
 "cells": [
  {
   "cell_type": "markdown",
   "metadata": {},
   "source": [
    "# Powerpoint avec Python"
   ]
  },
  {
   "cell_type": "markdown",
   "metadata": {},
   "source": [
    "## Importer des fonctions"
   ]
  },
  {
   "cell_type": "code",
   "execution_count": 1,
   "metadata": {},
   "outputs": [],
   "source": [
    "from pptx import Presentation"
   ]
  },
  {
   "cell_type": "markdown",
   "metadata": {},
   "source": [
    "## Créer une nouvelle présentation"
   ]
  },
  {
   "cell_type": "code",
   "execution_count": 2,
   "metadata": {},
   "outputs": [],
   "source": [
    "# Créer une nouvelle présentation\n",
    "prs = Presentation()"
   ]
  },
  {
   "cell_type": "markdown",
   "metadata": {},
   "source": [
    "## Ouvrir une présentation existante"
   ]
  },
  {
   "cell_type": "code",
   "execution_count": 3,
   "metadata": {},
   "outputs": [],
   "source": [
    "#prs = Presentation('presentation.pptx')"
   ]
  },
  {
   "cell_type": "markdown",
   "metadata": {},
   "source": [
    "## Créer une disposition de diapositives\n",
    "\n",
    "The slide layouts in a standard PowerPoint theme always occur in the same sequence. This allows content from one deck to be pasted into another and be connected with the right new slide layout:\n",
    "\n",
    "    Title (presentation title slide)\n",
    "    Title and Content\n",
    "    Section Header (sometimes called Segue)\n",
    "    Two Content (side by side bullet textboxes)\n",
    "    Comparison (same but additional title for each side by side content box)\n",
    "    Title Only\n",
    "    Blank\n",
    "    Content with Caption\n",
    "    Picture with Caption\n",
    "\n",
    "Source : https://python-pptx.readthedocs.io/en/latest/user/slides.html"
   ]
  },
  {
   "cell_type": "code",
   "execution_count": 4,
   "metadata": {},
   "outputs": [],
   "source": [
    "# Ajouter une diapositive de titre\n",
    "title_layout = prs.slide_layouts[0]  # On choisit une disposition \"Title (presentation title slide)\"\n",
    "title_and_content_layout = prs.slide_layouts[1]\n",
    "picture_with_caption_layout = prs.slide_layouts[8]\n",
    "latest_layout = prs.slide_layouts[10]"
   ]
  },
  {
   "cell_type": "markdown",
   "metadata": {},
   "source": [
    "La disposition \"Title\" contient 2 espaces réservés :\n",
    "\n",
    "* le titre ;\n",
    "* le sous-titre.\n",
    "\n",
    "Ainsi, le code suivant est correct :"
   ]
  },
  {
   "cell_type": "code",
   "execution_count": 5,
   "metadata": {},
   "outputs": [],
   "source": [
    "#my_title = my_slide.placeholders[0]\n",
    "#my_subtitle = my_slide.placeholders[1]"
   ]
  },
  {
   "cell_type": "markdown",
   "metadata": {},
   "source": [
    "En revanche, le code suivant renvoie une erreur car il n'y a pas de 3e espace réservé :"
   ]
  },
  {
   "cell_type": "code",
   "execution_count": 6,
   "metadata": {},
   "outputs": [],
   "source": [
    "#my_slide.placeholders[2]"
   ]
  },
  {
   "cell_type": "markdown",
   "metadata": {},
   "source": [
    "## Ajouter une diapositive"
   ]
  },
  {
   "cell_type": "code",
   "execution_count": 7,
   "metadata": {},
   "outputs": [],
   "source": [
    "slide1 = prs.slides.add_slide(title_layout)\n",
    "slide2 = prs.slides.add_slide(title_and_content_layout)"
   ]
  },
  {
   "cell_type": "markdown",
   "metadata": {},
   "source": [
    "## Ajouter un titre\n",
    "\n",
    "Étant donné que l'on a choisi la disposition \"Title\", il existe 2 espaces réservés :\n",
    "\n",
    "* le titre ;\n",
    "* le sous-titre."
   ]
  },
  {
   "cell_type": "code",
   "execution_count": 8,
   "metadata": {},
   "outputs": [],
   "source": [
    "slide1_title = slide1.shapes.placeholders[0]\n",
    "slide1_title.text = \"Mon titre de présentation\""
   ]
  },
  {
   "cell_type": "markdown",
   "metadata": {},
   "source": [
    "La cellule suivante est équivalente à la précédente."
   ]
  },
  {
   "cell_type": "code",
   "execution_count": 9,
   "metadata": {},
   "outputs": [],
   "source": [
    "# my_slide_title = my_slide.shapes.title\n",
    "# my_slide_title.text = \"Mon titre de présentation\""
   ]
  },
  {
   "cell_type": "markdown",
   "metadata": {},
   "source": [
    "## Ajouter un sous-titre"
   ]
  },
  {
   "cell_type": "code",
   "execution_count": 10,
   "metadata": {},
   "outputs": [],
   "source": [
    "slide1_subtitle = slide1.placeholders[1]\n",
    "slide1_subtitle.text = \"Mon sous-titre de la présentation\""
   ]
  },
  {
   "cell_type": "code",
   "execution_count": 11,
   "metadata": {},
   "outputs": [],
   "source": [
    "slide1_second_placeholder = slide1.placeholders[0]"
   ]
  },
  {
   "cell_type": "markdown",
   "metadata": {},
   "source": [
    "## Sauvegarder la présentation"
   ]
  },
  {
   "cell_type": "code",
   "execution_count": 12,
   "metadata": {},
   "outputs": [],
   "source": [
    "# Sauvegarder la présentation\n",
    "prs.save('presentation.pptx')"
   ]
  },
  {
   "cell_type": "markdown",
   "metadata": {},
   "source": [
    "## Lister les dispositions de toutes les diapositives"
   ]
  },
  {
   "cell_type": "code",
   "execution_count": 15,
   "metadata": {},
   "outputs": [
    {
     "name": "stdout",
     "output_type": "stream",
     "text": [
      "La diapositive numéro 1 a la disposition \"Title Slide\".\n",
      "La diapositive numéro 2 a la disposition \"Title and Content\".\n"
     ]
    }
   ],
   "source": [
    "for index, slide in enumerate(prs.slides):\n",
    "    print(f\"La diapositive numéro {index + 1} a la disposition \\\"{slide.slide_layout.name}\\\".\")"
   ]
  },
  {
   "cell_type": "markdown",
   "metadata": {},
   "source": [
    "## Lister les formes de toutes les diapositives"
   ]
  },
  {
   "cell_type": "code",
   "execution_count": 16,
   "metadata": {},
   "outputs": [
    {
     "name": "stdout",
     "output_type": "stream",
     "text": [
      "Diapo numéro 0, espace réservé numéro 1, Title 1\n",
      "Diapo numéro 0, espace réservé numéro 2, Subtitle 2\n",
      "Diapo numéro 1, espace réservé numéro 1, Title 1\n",
      "Diapo numéro 1, espace réservé numéro 2, Content Placeholder 2\n"
     ]
    }
   ],
   "source": [
    "for slide_index, slide in enumerate(prs.slides):\n",
    "    for shape in slide.placeholders:        \n",
    "        print(f\"Diapo numéro {slide_index + 1}, espace réservé numéro {shape.placeholder_format.idx + 1}, {shape.name}\")"
   ]
  }
 ],
 "metadata": {
  "kernelspec": {
   "display_name": "env",
   "language": "python",
   "name": "python3"
  },
  "language_info": {
   "codemirror_mode": {
    "name": "ipython",
    "version": 3
   },
   "file_extension": ".py",
   "mimetype": "text/x-python",
   "name": "python",
   "nbconvert_exporter": "python",
   "pygments_lexer": "ipython3",
   "version": "3.10.12"
  }
 },
 "nbformat": 4,
 "nbformat_minor": 2
}
