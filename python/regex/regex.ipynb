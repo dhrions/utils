{
 "cells": [
  {
   "cell_type": "markdown",
   "metadata": {},
   "source": [
    "# Les REGEX avec Python"
   ]
  },
  {
   "cell_type": "markdown",
   "metadata": {},
   "source": [
    "## Importer le package re"
   ]
  },
  {
   "cell_type": "code",
   "execution_count": 1,
   "metadata": {},
   "outputs": [],
   "source": [
    "import re"
   ]
  },
  {
   "cell_type": "markdown",
   "metadata": {},
   "source": [
    "## Différents types de motifs"
   ]
  },
  {
   "cell_type": "markdown",
   "metadata": {},
   "source": [
    "### Chaînes de caractères en français"
   ]
  },
  {
   "cell_type": "code",
   "execution_count": 2,
   "metadata": {},
   "outputs": [],
   "source": [
    "string_pattern = r\"[a-zA-ZàâäéèêëîïôöùûüÿçœæÀÂÄÉÈÊËÎÏÔÖÙÛÜŸÇŒÆ0-9\\-'\\s,.;:]+\""
   ]
  },
  {
   "cell_type": "markdown",
   "metadata": {},
   "source": [
    "Le motif ci-dessus a pour but de sélectionner du texte en français.\n",
    "\n",
    "Le motif ci-dessus permet de sélectionner des numéros de chaînes de caractères telles que :\n",
    "\n",
    "* \"dsflklk flmllm fds\"\n",
    "* \"Lorem ipsum dolor sit amet 0612345678, 0712345678 consectetur PATTERN adipiscing elit. Sed et volutpat quam. Cras ac eleifend orci. Fusce sed odio mattis risus egestas finibus varius sed augue. In 06.12.34.56.78 sit amet ex PATTERNvitae sapien luctus sagittis. Phasellus ornare erat interdum, interdum metus eu, sagittis nibh. Quisque porta mi in tempor laoreet. Suspendisse faucibus, tellus eu mattis blandit06 78 34 16 78, mi tortor finibus arcu, sed ornare purus PATTERN dolor quis nunc. Curabitur ultricies nulla velit, vitae viverra neque ullamcorper vel. Nam ornare viverra neque, sed dictum metus consectetur id.\"\n",
    "\n",
    "Le motif ci-dessus ne permet pas de sélectionner des numéros de chaînes de caractères telles que :"
   ]
  },
  {
   "cell_type": "code",
   "execution_count": 3,
   "metadata": {},
   "outputs": [],
   "source": [
    "text = \"\"\"\n",
    "dsflklk flmllm fds.\n",
    "Lorem ipsum dolor sit amet 0612345678, 0712345678 consectetur PATTERN adipiscing elit. Sed et volutpat quam. Cras ac eleifend orci. Fusce sed odio mattis risus egestas finibus varius sed augue. In 06.12.34.56.78 sit amet ex PATTERNvitae sapien luctus sagittis. Phasellus ornare erat interdum, interdum metus eu, sagittis nibh. Quisque porta mi in tempor laoreet. Suspendisse faucibus, tellus eu mattis blandit06 78 34 16 78, mi tortor finibus arcu, sed ornare purus PATTERN dolor quis nunc. Curabitur ultricies nulla velit, vitae viverra neque ullamcorper vel. Nam ornare viverra neque, sed dictum metus consectetur id.\n",
    "\"\"\""
   ]
  },
  {
   "cell_type": "code",
   "execution_count": 4,
   "metadata": {},
   "outputs": [
    {
     "name": "stdout",
     "output_type": "stream",
     "text": [
      "Match: \n",
      "dsflklk flmllm fds.\n",
      "Lorem ipsum dolor sit amet 0612345678, 0712345678 consectetur PATTERN adipiscing elit. Sed et volutpat quam. Cras ac eleifend orci. Fusce sed odio mattis risus egestas finibus varius sed augue. In 06.12.34.56.78 sit amet ex PATTERNvitae sapien luctus sagittis. Phasellus ornare erat interdum, interdum metus eu, sagittis nibh. Quisque porta mi in tempor laoreet. Suspendisse faucibus, tellus eu mattis blandit06 78 34 16 78, mi tortor finibus arcu, sed ornare purus PATTERN dolor quis nunc. Curabitur ultricies nulla velit, vitae viverra neque ullamcorper vel. Nam ornare viverra neque, sed dictum metus consectetur id.\n",
      " at position 0-641\n"
     ]
    }
   ],
   "source": [
    "pattern = string_pattern\n",
    "matches = re.finditer(pattern, text)\n",
    "for match in matches:\n",
    "    print(f\"Match: {match.group()} at position {match.start()}-{match.end()}\")"
   ]
  },
  {
   "cell_type": "markdown",
   "metadata": {},
   "source": [
    "### Adresses IP"
   ]
  },
  {
   "cell_type": "code",
   "execution_count": 5,
   "metadata": {},
   "outputs": [],
   "source": [
    "ip_address_pattern = r\"((\\b25[0-5]|\\b2[0-4][0-9]|\\b1)?[1-9]?[0-9])(\\.((25[0-5]|2[0-4][0-9]|1)?[1-9]?[0-9])){2}(\\.((25[0-5]|2[0-4][0-9]|1)?[1-9]?[0-9]))\\b\""
   ]
  },
  {
   "cell_type": "markdown",
   "metadata": {},
   "source": [
    "Le motif ci-dessus a pour but de sélectionner des adresses IP.\n",
    "\n",
    "Le motif ci-dessus permet de sélectionner des numéros de chaînes de caractères telles que :\n",
    "\n",
    "* \"192.168.0.1\"\n",
    "* \"8.8.8.8\"\n",
    "\n",
    "Le motif ci-dessus ne permet pas de sélectionner des chaînes de caractères telles que :\n",
    "\n",
    "* \"192 168 0 1\""
   ]
  },
  {
   "cell_type": "markdown",
   "metadata": {},
   "source": [
    "### Numéros de téléphone"
   ]
  },
  {
   "cell_type": "code",
   "execution_count": 6,
   "metadata": {},
   "outputs": [],
   "source": [
    "mobile_phonenumber_pattern = r\"(06|07)(\\s\\d{2}){4}|(06|07)(\\d{2}){4}|(06|07)(\\.\\d{2}){4}|(06|07)(\\-\\d{2}){4}\""
   ]
  },
  {
   "cell_type": "markdown",
   "metadata": {},
   "source": [
    "Le motif ci-dessus a pour but de sélectionner des numéros de téléphone portable.\n",
    "\n",
    "Le motif ci-dessus permet de sélectionner des numéros de chaînes de caractères telles que :\n",
    "\n",
    "* \"0612345678\"\n",
    "* \"07 12 34 56 78\"\n",
    "* \"06.12.34.56.78\"\n",
    "* \"07-12-34-56-78\"\n",
    "\n",
    "Le motif ci-dessus ne permet pas de sélectionner des chaînes de caractères telles que :\n",
    "\n",
    "* \"0123456789\"\n"
   ]
  },
  {
   "cell_type": "code",
   "execution_count": 7,
   "metadata": {},
   "outputs": [],
   "source": [
    "text = \"\"\"\n",
    "0612345678\n",
    "07 12 34 56 78\n",
    "06.12.34.56.78\n",
    "07-12-34-56-78\n",
    "0123456789\n",
    "\"\"\""
   ]
  },
  {
   "cell_type": "code",
   "execution_count": 8,
   "metadata": {},
   "outputs": [
    {
     "name": "stdout",
     "output_type": "stream",
     "text": [
      "Match: 0612345678 at position 1-11\n",
      "Match: 07 12 34 56 78 at position 12-26\n",
      "Match: 06.12.34.56.78 at position 27-41\n",
      "Match: 07-12-34-56-78 at position 42-56\n"
     ]
    }
   ],
   "source": [
    "pattern = mobile_phonenumber_pattern\n",
    "matches = re.finditer(pattern, text)\n",
    "for match in matches:\n",
    "    print(f\"Match: {match.group()} at position {match.start()}-{match.end()}\")"
   ]
  },
  {
   "cell_type": "markdown",
   "metadata": {},
   "source": [
    "### URL"
   ]
  },
  {
   "cell_type": "code",
   "execution_count": 9,
   "metadata": {},
   "outputs": [],
   "source": [
    "url_fr_pattern = r\"\\bw{3}\\.\\w*\\.fr\\b\""
   ]
  },
  {
   "cell_type": "markdown",
   "metadata": {},
   "source": [
    "### Adresses MAC"
   ]
  },
  {
   "cell_type": "code",
   "execution_count": 10,
   "metadata": {},
   "outputs": [],
   "source": [
    "mac_address_pattern = \"([0-9a-f]{2}:){5}[0-9a-f]{2}\""
   ]
  },
  {
   "cell_type": "markdown",
   "metadata": {},
   "source": [
    "## Texte pour les exemples"
   ]
  },
  {
   "cell_type": "code",
   "execution_count": 11,
   "metadata": {},
   "outputs": [],
   "source": [
    "text = \"Lorem ipsum dolor sit amet 0612345678, 0712345678 consectetur PATTERN adipiscing elit. Sed et volutpat quam. Cras ac eleifend orci. Fusce sed odio mattis risus egestas finibus varius sed augue. In 06.12.34.56.78 sit amet ex PATTERNvitae sapien luctus sagittis. Phasellus ornare erat interdum, interdum metus eu, sagittis nibh. Quisque porta mi in tempor laoreet. Suspendisse faucibus, tellus eu mattis blandit06 78 34 16 78, mi tortor finibus arcu, sed ornare purus PATTERN dolor quis nunc. Curabitur ultricies nulla velit, vitae viverra neque ullamcorper vel. Nam ornare viverra neque, sed dictum metus consectetur id.\""
   ]
  },
  {
   "cell_type": "markdown",
   "metadata": {},
   "source": [
    "## Obtenir une liste de tous les éléments correspondant au motif"
   ]
  },
  {
   "cell_type": "markdown",
   "metadata": {},
   "source": [
    "On peut utiliser la méthode finditer si l'on veut avoir plus que le texte correspondant au motif, notamment les index de début et de fin de la chaîne de caractères considérée. Sinon, on utilisera simplement findall."
   ]
  },
  {
   "cell_type": "code",
   "execution_count": 12,
   "metadata": {},
   "outputs": [
    {
     "name": "stdout",
     "output_type": "stream",
     "text": [
      "Match: 0612345678 at position 27-37\n",
      "Match: 0712345678 at position 39-49\n",
      "Match: 06.12.34.56.78 at position 197-211\n",
      "Match: 06 78 34 16 78 at position 409-423\n",
      "(06|07)(\\s\\d{2}){4}|(06|07)(\\d{2}){4}|(06|07)(\\.\\d{2}){4}|(06|07)(\\-\\d{2}){4}\n"
     ]
    }
   ],
   "source": [
    "pattern = mobile_phonenumber_pattern\n",
    "matches = re.finditer(pattern, text)\n",
    "for match in matches:\n",
    "    print(f\"Match: {match.group()} at position {match.start()}-{match.end()}\")\n",
    "print(pattern)"
   ]
  },
  {
   "cell_type": "code",
   "execution_count": 21,
   "metadata": {},
   "outputs": [
    {
     "name": "stdout",
     "output_type": "stream",
     "text": [
      "(06|07)(\\s\\d{2}){4}|(06|07)(\\d{2}){4}|(06|07)(\\.\\d{2}){4}|(06|07)(\\-\\d{2}){4}\n",
      "Lorem ipsum dolor sit amet 0612345678, 0712345678 consectetur PATTERN adipiscing elit. Sed et volutpat quam. Cras ac eleifend orci. Fusce sed odio mattis risus egestas finibus varius sed augue. In 06.12.34.56.78 sit amet ex PATTERNvitae sapien luctus sagittis. Phasellus ornare erat interdum, interdum metus eu, sagittis nibh. Quisque porta mi in tempor laoreet. Suspendisse faucibus, tellus eu mattis blandit06 78 34 16 78, mi tortor finibus arcu, sed ornare purus PATTERN dolor quis nunc. Curabitur ultricies nulla velit, vitae viverra neque ullamcorper vel. Nam ornare viverra neque, sed dictum metus consectetur id.\n",
      "[('', '', '06', '78', '', '', '', ''), ('', '', '07', '78', '', '', '', ''), ('', '', '', '', '06', '.78', '', ''), ('06', ' 78', '', '', '', '', '', '')]\n"
     ]
    }
   ],
   "source": [
    "pattern = mobile_phonenumber_pattern\n",
    "print(pattern)\n",
    "print(text)\n",
    "matches = re.findall(pattern, text)\n",
    "print(matches)"
   ]
  },
  {
   "cell_type": "markdown",
   "metadata": {},
   "source": [
    "## Obtenir une liste de tout ce qui est délimité par le motif considéré\n",
    "\n",
    "On veut récupérer dans une liste chaque extrait du texte situé entre soit le début du texte et PATTERN, soit entre 2 PATTERN, soit entre PATTERN et la fin du texte."
   ]
  },
  {
   "cell_type": "code",
   "execution_count": 14,
   "metadata": {},
   "outputs": [
    {
     "name": "stdout",
     "output_type": "stream",
     "text": [
      "Segment 0: Lorem ipsum dolor sit amet 0612345678, 0712345678 consectetur\n",
      "Segment 1: adipiscing elit. Sed et volutpat quam. Cras ac eleifend orci. Fusce sed odio mattis risus egestas finibus varius sed augue. In 06.12.34.56.78 sit amet ex\n",
      "Segment 2: vitae sapien luctus sagittis. Phasellus ornare erat interdum, interdum metus eu, sagittis nibh. Quisque porta mi in tempor laoreet. Suspendisse faucibus, tellus eu mattis blandit06 78 34 16 78, mi tortor finibus arcu, sed ornare purus\n",
      "Segment 3: dolor quis nunc. Curabitur ultricies nulla velit, vitae viverra neque ullamcorper vel. Nam ornare viverra neque, sed dictum metus consectetur id.\n"
     ]
    }
   ],
   "source": [
    "# Utiliser re.split pour diviser la chaîne autour du motif\n",
    "pattern = r\"PATTERN\"\n",
    "segments = re.split(pattern, text)\n",
    "\n",
    "# Afficher les segments trouvés\n",
    "for i, segment in enumerate(segments):\n",
    "    print(f\"Segment {i}: {segment.strip()}\")"
   ]
  },
  {
   "cell_type": "markdown",
   "metadata": {},
   "source": [
    "### Obtenir toutes les phrases d'un texte"
   ]
  },
  {
   "cell_type": "code",
   "execution_count": 15,
   "metadata": {},
   "outputs": [
    {
     "name": "stdout",
     "output_type": "stream",
     "text": [
      "Lorem ipsum dolor sit amet 0612345678, 0712345678 consectetur PATTERN adipiscing elit. Sed et volutpat quam. Cras ac eleifend orci. Fusce sed odio mattis risus egestas finibus varius sed augue. In 06.12.34.56.78 sit amet ex PATTERNvitae sapien luctus sagittis. Phasellus ornare erat interdum, interdum metus eu, sagittis nibh. Quisque porta mi in tempor laoreet. Suspendisse faucibus, tellus eu mattis blandit06 78 34 16 78, mi tortor finibus arcu, sed ornare purus PATTERN dolor quis nunc. Curabitur ultricies nulla velit, vitae viverra neque ullamcorper vel. Nam ornare viverra neque, sed dictum metus consectetur id.\n"
     ]
    }
   ],
   "source": [
    "print(text)"
   ]
  },
  {
   "cell_type": "code",
   "execution_count": 16,
   "metadata": {},
   "outputs": [
    {
     "name": "stdout",
     "output_type": "stream",
     "text": [
      "Segment 0: Lorem ipsum dolor sit amet 0612345678, 0712345678 consectetur PATTERN adipiscing elit\n",
      "Segment 1: Sed et volutpat quam\n",
      "Segment 2: Cras ac eleifend orci\n",
      "Segment 3: Fusce sed odio mattis risus egestas finibus varius sed augue\n",
      "Segment 4: In 06.12.34.56.78 sit amet ex PATTERNvitae sapien luctus sagittis\n",
      "Segment 5: Phasellus ornare erat interdum, interdum metus eu, sagittis nibh\n",
      "Segment 6: Quisque porta mi in tempor laoreet\n",
      "Segment 7: Suspendisse faucibus, tellus eu mattis blandit06 78 34 16 78, mi tortor finibus arcu, sed ornare purus PATTERN dolor quis nunc\n",
      "Segment 8: Curabitur ultricies nulla velit, vitae viverra neque ullamcorper vel\n",
      "Segment 9: Nam ornare viverra neque, sed dictum metus consectetur id.\n"
     ]
    }
   ],
   "source": [
    "# Utiliser re.split pour diviser la chaîne autour du motif\n",
    "pattern = r\"\\. \"\n",
    "segments = re.split(pattern, text)\n",
    "\n",
    "# Afficher les segments trouvés\n",
    "for i, segment in enumerate(segments):\n",
    "    print(f\"Segment {i}: {segment.strip()}\")"
   ]
  },
  {
   "cell_type": "markdown",
   "metadata": {},
   "source": [
    "### Obtenir tous les mots d'un texte"
   ]
  },
  {
   "cell_type": "code",
   "execution_count": 17,
   "metadata": {},
   "outputs": [
    {
     "data": {
      "text/plain": [
       "['Lorem',\n",
       " 'ipsum',\n",
       " 'dolor',\n",
       " 'sit',\n",
       " 'amet',\n",
       " 'consectetur',\n",
       " 'PATTERN',\n",
       " 'adipiscing',\n",
       " 'elit',\n",
       " 'Sed',\n",
       " 'et',\n",
       " 'volutpat',\n",
       " 'quam',\n",
       " 'Cras',\n",
       " 'ac',\n",
       " 'eleifend',\n",
       " 'orci',\n",
       " 'Fusce',\n",
       " 'sed',\n",
       " 'odio',\n",
       " 'mattis',\n",
       " 'risus',\n",
       " 'egestas',\n",
       " 'finibus',\n",
       " 'varius',\n",
       " 'sed',\n",
       " 'augue',\n",
       " 'In',\n",
       " 'sit',\n",
       " 'amet',\n",
       " 'ex',\n",
       " 'PATTERNvitae',\n",
       " 'sapien',\n",
       " 'luctus',\n",
       " 'sagittis',\n",
       " 'Phasellus',\n",
       " 'ornare',\n",
       " 'erat',\n",
       " 'interdum',\n",
       " 'interdum',\n",
       " 'metus',\n",
       " 'eu',\n",
       " 'sagittis',\n",
       " 'nibh',\n",
       " 'Quisque',\n",
       " 'porta',\n",
       " 'mi',\n",
       " 'in',\n",
       " 'tempor',\n",
       " 'laoreet',\n",
       " 'Suspendisse',\n",
       " 'faucibus',\n",
       " 'tellus',\n",
       " 'eu',\n",
       " 'mattis',\n",
       " 'mi',\n",
       " 'tortor',\n",
       " 'finibus',\n",
       " 'arcu',\n",
       " 'sed',\n",
       " 'ornare',\n",
       " 'purus',\n",
       " 'PATTERN',\n",
       " 'dolor',\n",
       " 'quis',\n",
       " 'nunc',\n",
       " 'Curabitur',\n",
       " 'ultricies',\n",
       " 'nulla',\n",
       " 'velit',\n",
       " 'vitae',\n",
       " 'viverra',\n",
       " 'neque',\n",
       " 'ullamcorper',\n",
       " 'vel',\n",
       " 'Nam',\n",
       " 'ornare',\n",
       " 'viverra',\n",
       " 'neque',\n",
       " 'sed',\n",
       " 'dictum',\n",
       " 'metus',\n",
       " 'consectetur',\n",
       " 'id']"
      ]
     },
     "execution_count": 17,
     "metadata": {},
     "output_type": "execute_result"
    }
   ],
   "source": [
    "mots = re.findall(r'\\b[a-zA-ZàâäéèêëîïôöùûüÿçœæÀÂÄÉÈÊËÎÏÔÖÙÛÜŸÇŒÆ\\'\\-]+\\b', text)\n",
    "mots"
   ]
  }
 ],
 "metadata": {
  "kernelspec": {
   "display_name": ".venv",
   "language": "python",
   "name": "python3"
  },
  "language_info": {
   "codemirror_mode": {
    "name": "ipython",
    "version": 3
   },
   "file_extension": ".py",
   "mimetype": "text/x-python",
   "name": "python",
   "nbconvert_exporter": "python",
   "pygments_lexer": "ipython3",
   "version": "3.10.12"
  }
 },
 "nbformat": 4,
 "nbformat_minor": 2
}
