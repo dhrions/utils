{
 "cells": [
  {
   "cell_type": "markdown",
   "metadata": {},
   "source": [
    "# Gestion des chaînes de caractères"
   ]
  },
  {
   "attachments": {},
   "cell_type": "markdown",
   "metadata": {},
   "source": [
    "## Formater une chaîne de caractères en kebab case"
   ]
  },
  {
   "cell_type": "code",
   "execution_count": 9,
   "metadata": {},
   "outputs": [
    {
     "name": "stdout",
     "output_type": "stream",
     "text": [
      "camel-case\n",
      "some-text\n",
      "some-mixed-string-with-spaces-underscores-and-hyphens\n",
      "all-the-small-things\n"
     ]
    }
   ],
   "source": [
    "from re import sub\n",
    "\n",
    "def kebab(s):\n",
    "  return '-'.join(\n",
    "    sub(r\"(\\s|_|-)+\",\" \",\n",
    "    sub(r\"[A-Z]{2,}(?=[A-Z][a-z]+[0-9]*|\\b)|[A-Z]?[a-z]+[0-9]*|[A-Z]|[0-9]+\",\n",
    "    lambda mo: ' ' + mo.group(0).lower(), s)).split())\n",
    "\n",
    "a = kebab('camelCase') # 'camel-case'\n",
    "b= kebab('some text') # 'some-text'\n",
    "c= kebab('some-mixed_string With spaces_underscores-and-hyphens')\n",
    "# 'some-mixed-string-with-spaces-underscores-and-hyphens'\n",
    "d = kebab('AllThe-small Things') # 'all-the-small-things'\n",
    "print(a,b,c,d, sep=\"\\n\")"
   ]
  },
  {
   "attachments": {},
   "cell_type": "markdown",
   "metadata": {},
   "source": [
    "## f-string"
   ]
  },
  {
   "cell_type": "code",
   "execution_count": 10,
   "metadata": {},
   "outputs": [
    {
     "name": "stdout",
     "output_type": "stream",
     "text": [
      "Peter is 23 years old\n",
      "Peter is 23 years old\n",
      "Peter is 23 years old\n"
     ]
    }
   ],
   "source": [
    "name = 'Peter'\n",
    "age = 23\n",
    "\n",
    "print('%s is %d years old' % (name, age))\n",
    "print('{} is {} years old'.format(name, age))\n",
    "print(f'{name} is {age} years old')"
   ]
  },
  {
   "cell_type": "code",
   "execution_count": null,
   "metadata": {},
   "outputs": [],
   "source": []
  }
 ],
 "metadata": {
  "kernelspec": {
   "display_name": "myproject",
   "language": "python",
   "name": "myproject"
  },
  "language_info": {
   "codemirror_mode": {
    "name": "ipython",
    "version": 3
   },
   "file_extension": ".py",
   "mimetype": "text/x-python",
   "name": "python",
   "nbconvert_exporter": "python",
   "pygments_lexer": "ipython3",
   "version": "3.10.6"
  },
  "orig_nbformat": 4,
  "vscode": {
   "interpreter": {
    "hash": "ac891474cc694539b0a7e88adbfce97b758a48d0ab8340cf13489c7ae4fc11e3"
   }
  }
 },
 "nbformat": 4,
 "nbformat_minor": 2
}
