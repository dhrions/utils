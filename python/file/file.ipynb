{
 "cells": [
  {
   "attachments": {},
   "cell_type": "markdown",
   "metadata": {},
   "source": [
    "| File | Mode Meaning |\n",
    "|-----|--------|\n",
    "| w |\tCreate a new file for writing. If a file already exists, it truncates the file first. Use to create and write content into a new file. |\n",
    "| x |\tOpen a file only for exclusive creation. If the file already exists, this operation fails. |\n",
    "| a |\tOpen a file in the append mode and add new content at the end of the file. |\n",
    "| b |\tCreate a binary file |\n",
    "| t |\tCreate and open a file in a text mode |"
   ]
  },
  {
   "attachments": {},
   "cell_type": "markdown",
   "metadata": {},
   "source": [
    "## Créer un fichier (ou l'ouvrir s'il existe déjà) en mode écriture"
   ]
  },
  {
   "cell_type": "code",
   "execution_count": 40,
   "metadata": {},
   "outputs": [],
   "source": [
    "f = open (\"./text-files/text1.txt\",\"w\")"
   ]
  },
  {
   "attachments": {},
   "cell_type": "markdown",
   "metadata": {},
   "source": [
    "## Écrire dans un fichier (et supprimer les données s'il y en a déjà)"
   ]
  },
  {
   "attachments": {},
   "cell_type": "markdown",
   "metadata": {},
   "source": [
    "### 1<sup>re</sup> méthode"
   ]
  },
  {
   "cell_type": "code",
   "execution_count": 41,
   "metadata": {},
   "outputs": [],
   "source": [
    "f = open(\"./text-files/text2.txt\", 'w') # ouverture du fichier\n",
    "f.write(\"Voici le contenu d'un fichier qui contient cette première ligne.\\nAinsi que cette seconde ligne.\")\n",
    "f.close() # fermeture du fichier"
   ]
  },
  {
   "attachments": {},
   "cell_type": "markdown",
   "metadata": {},
   "source": [
    "### 2<sup>de</sup> méthode"
   ]
  },
  {
   "cell_type": "code",
   "execution_count": 42,
   "metadata": {},
   "outputs": [],
   "source": [
    "with open(\"./text-files/text3.txt\", 'w') as f:\n",
    "    f.write('This is first line')"
   ]
  },
  {
   "attachments": {},
   "cell_type": "markdown",
   "metadata": {},
   "source": [
    "## Lire le contenu d'un fichier"
   ]
  },
  {
   "cell_type": "code",
   "execution_count": 43,
   "metadata": {},
   "outputs": [
    {
     "name": "stdout",
     "output_type": "stream",
     "text": [
      "76;55;90;84;59;51;73;54;51;99;92;86;22;50;33;41;58;6;77;37;98;21;17;10;49;\n"
     ]
    }
   ],
   "source": [
    "f = open(\"./text-files/text4.txt\", 'r')\n",
    "contenu = f.read() # lecture du contenu\n",
    "print(contenu) # impression du contenu\n",
    "f.close() # fermeture du fichier"
   ]
  },
  {
   "attachments": {},
   "cell_type": "markdown",
   "metadata": {},
   "source": [
    "## Écrire une liste sous forme de CSV"
   ]
  },
  {
   "cell_type": "code",
   "execution_count": 44,
   "metadata": {},
   "outputs": [],
   "source": [
    "import random"
   ]
  },
  {
   "cell_type": "code",
   "execution_count": 45,
   "metadata": {},
   "outputs": [
    {
     "data": {
      "text/plain": [
       "[44, 94, 87, 25, 25, 11, 10, 13, 33, 2]"
      ]
     },
     "execution_count": 45,
     "metadata": {},
     "output_type": "execute_result"
    }
   ],
   "source": [
    "random_numbers_list = [random.randint(0, 100) for x in range(25)]\n",
    "random_numbers_list[:10]"
   ]
  },
  {
   "cell_type": "code",
   "execution_count": 46,
   "metadata": {},
   "outputs": [],
   "source": [
    "with open(\"./text-files/text5.txt\", 'w') as f:\n",
    "    for i in random_numbers_list:\n",
    "        f.write(str(i)+\";\")"
   ]
  },
  {
   "cell_type": "code",
   "execution_count": null,
   "metadata": {},
   "outputs": [],
   "source": []
  }
 ],
 "metadata": {
  "kernelspec": {
   "display_name": "Python 3",
   "language": "python",
   "name": "python3"
  },
  "language_info": {
   "codemirror_mode": {
    "name": "ipython",
    "version": 3
   },
   "file_extension": ".py",
   "mimetype": "text/x-python",
   "name": "python",
   "nbconvert_exporter": "python",
   "pygments_lexer": "ipython3",
   "version": "3.10.6"
  },
  "orig_nbformat": 4,
  "vscode": {
   "interpreter": {
    "hash": "ac891474cc694539b0a7e88adbfce97b758a48d0ab8340cf13489c7ae4fc11e3"
   }
  }
 },
 "nbformat": 4,
 "nbformat_minor": 2
}
